{
 "cells": [
  {
   "cell_type": "code",
   "execution_count": 1,
   "metadata": {},
   "outputs": [
    {
     "name": "stderr",
     "output_type": "stream",
     "text": [
      "c:\\Users\\Pankaj Deb Roy\\Documents\\DeepLearning\\.env_llm\\Lib\\site-packages\\tqdm\\auto.py:21: TqdmWarning: IProgress not found. Please update jupyter and ipywidgets. See https://ipywidgets.readthedocs.io/en/stable/user_install.html\n",
      "  from .autonotebook import tqdm as notebook_tqdm\n"
     ]
    }
   ],
   "source": [
    "from typing import List\n",
    "import math\n",
    "import time\n",
    "import torch\n",
    "from torch import nn\n",
    "import torch.nn.functional as F\n",
    "from transformers import RobertaConfig, RobertaModel\n",
    "\n",
    "from diagonaled_mm_tvm import diagonaled_mm as diagonaled_mm_tvm, mask_invalid_locations\n",
    "from sliding_chunks import sliding_chunks_matmul_qk, sliding_chunks_matmul_pv, sliding_chunks_no_overlap_matmul_qk, sliding_chunks_no_overlap_matmul_pv\n",
    "from longformer import LongformerConfig,LongformerSelfAttention"
   ]
  },
  {
   "cell_type": "code",
   "execution_count": 2,
   "metadata": {},
   "outputs": [],
   "source": [
    "config = LongformerConfig.from_pretrained(\"C:/Users/Pankaj Deb Roy/Documents/DeepLearning/LLM_large_seq_length/longformer-base/longformer-base-4096/longformer-base-4096\")\n",
    "tensor = torch.randn([1,1024*6,config.hidden_size])"
   ]
  },
  {
   "cell_type": "code",
   "execution_count": 4,
   "metadata": {},
   "outputs": [
    {
     "name": "stdout",
     "output_type": "stream",
     "text": [
      "Time taken : 0.58s\n"
     ]
    }
   ],
   "source": [
    "longformer_attention = LongformerSelfAttention(config,layers_id=1)\n",
    "start = time.time()\n",
    "output = longformer_attention(tensor)\n",
    "print(f\"Time taken : {(time.time()-start):.2f}s\")"
   ]
  },
  {
   "cell_type": "code",
   "execution_count": 5,
   "metadata": {},
   "outputs": [
    {
     "name": "stdout",
     "output_type": "stream",
     "text": [
      "torch.Size([1, 12, 6144, 6144])\n",
      "torch.Size([1, 6144, 768])\n",
      "Time taken : 0.94s\n"
     ]
    }
   ],
   "source": [
    "class Attention(nn.Module):\n",
    "    def __init__(self,config,layer_id):\n",
    "        super().__init__()\n",
    "        assert config.hidden_size%config.num_attention_heads ==0,ValueError(f'Hidden Size {config.hidden_size} is not a multiple of number of attention heads {config.num_attention_heads}')\n",
    "        self.num_heads = config.num_attention_heads\n",
    "        self.head_dim = int(config.hidden_size / config.num_attention_heads)\n",
    "        self.embed_dim = config.hidden_size\n",
    "\n",
    "        self.wq = nn.Linear(self.embed_dim,self.embed_dim)\n",
    "        self.wk = nn.Linear(self.embed_dim,self.embed_dim)\n",
    "        self.wv = nn.Linear(self.embed_dim,self.embed_dim)\n",
    "        self.wo = nn.Linear(self.embed_dim,self.embed_dim)\n",
    "    \n",
    "    def forward(\n",
    "        self,\n",
    "        hidden_states,\n",
    "        attention_mask=None,\n",
    "        head_mask=None,\n",
    "        encoder_hidden_states=None,\n",
    "        encoder_attention_mask=None,\n",
    "        output_attentions=False,\n",
    "    ):\n",
    "        bsz,seq_len,embed_dims = hidden_states.shape\n",
    "        q = self.wq(hidden_states).view(bsz,seq_len,self.num_heads,self.head_dim).transpose(1,2)\n",
    "        k = self.wk(hidden_states).view(bsz,seq_len,self.num_heads,self.head_dim).transpose(1,2)\n",
    "        v = self.wv(hidden_states).view(bsz,seq_len,self.num_heads,self.head_dim).transpose(1,2)\n",
    "\n",
    "        attention_score = q@(k.transpose(-1,-2)) / math.sqrt(self.head_dim)\n",
    "\n",
    "        if attention_mask is not None:\n",
    "            attention_score = attention_score.masked_fill(attention_mask == 0, -1e9)\n",
    "        \n",
    "        attention_weights = F.softmax(attention_score,dim=-1)\n",
    "\n",
    "        output = (attention_weights @ v).transpose(1,2).reshape(bsz,seq_len,embed_dims)\n",
    "        output = self.wo(output)\n",
    "         \n",
    "        print(attention_weights.shape)\n",
    "        print(output.shape)\n",
    "\n",
    "attention = Attention(config,0)\n",
    "start = time.time()\n",
    "output = attention(tensor)\n",
    "print(f\"Time taken : {(time.time()-start):.2f}s\")"
   ]
  },
  {
   "cell_type": "code",
   "execution_count": null,
   "metadata": {},
   "outputs": [],
   "source": []
  },
  {
   "cell_type": "code",
   "execution_count": null,
   "metadata": {},
   "outputs": [],
   "source": []
  },
  {
   "cell_type": "code",
   "execution_count": null,
   "metadata": {},
   "outputs": [
    {
     "name": "stdout",
     "output_type": "stream",
     "text": [
      "Time taken : 0.59s\n"
     ]
    }
   ],
   "source": []
  },
  {
   "cell_type": "code",
   "execution_count": null,
   "metadata": {},
   "outputs": [
    {
     "name": "stdout",
     "output_type": "stream",
     "text": [
      "torch.Size([1, 12, 6144, 6144])\n",
      "Time taken : 0.42s\n"
     ]
    }
   ],
   "source": []
  },
  {
   "cell_type": "code",
   "execution_count": null,
   "metadata": {},
   "outputs": [],
   "source": []
  }
 ],
 "metadata": {
  "kernelspec": {
   "display_name": ".env_llm",
   "language": "python",
   "name": "python3"
  },
  "language_info": {
   "codemirror_mode": {
    "name": "ipython",
    "version": 3
   },
   "file_extension": ".py",
   "mimetype": "text/x-python",
   "name": "python",
   "nbconvert_exporter": "python",
   "pygments_lexer": "ipython3",
   "version": "3.13.2"
  }
 },
 "nbformat": 4,
 "nbformat_minor": 2
}
